{
 "cells": [
  {
   "cell_type": "markdown",
   "id": "ed8fa137",
   "metadata": {
    "slideshow": {
     "slide_type": "slide"
    }
   },
   "source": [
    "<br/>\n",
    "<img src=\"images/cd-logo-blue-600x600.png\" alt=\"\" width=\"130px\" align=\"left\"/>\n",
    "<img src=\"images/cd-logo-blue-600x600.png\" alt=\"\" width=\"130px\" align=\"right\"/>\n",
    "<div align=\"center\">\n",
    "<h2>Bootcamp Data Science - Módulo 2</h2><br/>\n",
    "<h1>Introducción a Machine Learning</h1>\n",
    "<br/><br/>\n",
    "    <b>Instructor Principal:</b> Patricio Olivares polivares@codingdojo.cl <br/>\n",
    "    <b>Instructor Asistente:</b> Jesús Ortiz jortiz@codingdojo.cl<br/><br/>\n",
    "    <b>Coding Dojo</b>\n",
    "</div>\n",
    "<br>\n",
    "Fuente: \"Hands-on Machine Learning with Scikit-Learn, Keras & TensorFlow\""
   ]
  },
  {
   "cell_type": "markdown",
   "id": "19951c3c",
   "metadata": {
    "slideshow": {
     "slide_type": "slide"
    }
   },
   "source": [
    "# ¿Qué es Machine Learning?"
   ]
  },
  {
   "cell_type": "markdown",
   "id": "72eb6b2b",
   "metadata": {
    "slideshow": {
     "slide_type": "fragment"
    }
   },
   "source": [
    "- Machine Learning (de ahora en adelante, **ML**), se define como el conjunto de técnicas a través de los cuales un computador puede aprender de los datos."
   ]
  },
  {
   "cell_type": "markdown",
   "id": "55f5bd22",
   "metadata": {
    "slideshow": {
     "slide_type": "fragment"
    }
   },
   "source": [
    "<img src=\"images/diagrama.png\" alt=\"\" width=\"800px\" align=\"center\"/>"
   ]
  },
  {
   "cell_type": "markdown",
   "id": "9af19a90",
   "metadata": {
    "slideshow": {
     "slide_type": "slide"
    }
   },
   "source": [
    "# ¿Por qué utilizar Machine Learning?"
   ]
  },
  {
   "cell_type": "markdown",
   "id": "49d420b9",
   "metadata": {
    "slideshow": {
     "slide_type": "fragment"
    }
   },
   "source": [
    "### Ej. Creación de un filtro de spam para correos electrónicos\n",
    "\n",
    "- Aproximación tradicional\n",
    "\n",
    "<img src=\"images/withoutML.png\" alt=\"\" width=\"500px\" align=\"center\"/>"
   ]
  },
  {
   "cell_type": "markdown",
   "id": "c6c98f60",
   "metadata": {
    "slideshow": {
     "slide_type": "slide"
    }
   },
   "source": [
    "# ¿Por qué utilizar Machine Learning?"
   ]
  },
  {
   "cell_type": "markdown",
   "id": "ae2ea1a7",
   "metadata": {
    "slideshow": {
     "slide_type": "fragment"
    }
   },
   "source": [
    "### Ej. Creación de un filtro de spam para correos electrónicos\n",
    "\n",
    "- Aproximación de ML\n",
    "\n",
    "<img src=\"images/withML.png\" alt=\"\" width=\"500px\" align=\"center\"/>"
   ]
  },
  {
   "cell_type": "markdown",
   "id": "9612a9d9",
   "metadata": {
    "slideshow": {
     "slide_type": "slide"
    }
   },
   "source": [
    "# Tipos de algoritmos de ML"
   ]
  },
  {
   "cell_type": "markdown",
   "id": "f6180672",
   "metadata": {
    "slideshow": {
     "slide_type": "fragment"
    }
   },
   "source": [
    "Existen distintas clasificaciones\n",
    "\n",
    "- Algoritmos entrenados con o sin supervisión humana:\n",
    "    * Supervisados\n",
    "    * No supervisados\n",
    "    * Semi supervisados\n",
    "    * Por refuerzo\n",
    "- Algoritmos de aprendizaje incremental:\n",
    "    * Online\n",
    "    * Offline/por lote (batch)\n",
    "- Algoritmos de detección de patrones o de comparación:\n",
    "    * Basados en instancia\n",
    "    * Basados en modelo"
   ]
  },
  {
   "cell_type": "markdown",
   "id": "f80c6651",
   "metadata": {
    "slideshow": {
     "slide_type": "slide"
    }
   },
   "source": [
    "# Bibliotecas para ML python"
   ]
  },
  {
   "cell_type": "markdown",
   "id": "1b6e5be8",
   "metadata": {
    "slideshow": {
     "slide_type": "fragment"
    }
   },
   "source": [
    "<img src=\"images/bibliotecas.png\" alt=\"\" width=\"800px\" align=\"center\"/>"
   ]
  },
  {
   "cell_type": "markdown",
   "id": "67c1d880",
   "metadata": {
    "slideshow": {
     "slide_type": "slide"
    }
   },
   "source": [
    "# Scikit-Learn"
   ]
  },
  {
   "cell_type": "markdown",
   "id": "2e406f16",
   "metadata": {
    "slideshow": {
     "slide_type": "fragment"
    }
   },
   "source": [
    "<img src=\"images/ml-libraries/scikit-learn-logo-notext.png\" alt=\"\" width=\"200px\" align=\"center\"/>"
   ]
  },
  {
   "cell_type": "markdown",
   "id": "d35b3ed9",
   "metadata": {
    "slideshow": {
     "slide_type": "fragment"
    }
   },
   "source": [
    "- Biblioteca para ML de código libre\n",
    "- Biblioteca para Python\n",
    "- Soporta múltiples algoritmos tanto supervisados como no supervisados\n",
    "-  Si está trabajando en su entorno local, previo a su importación debe ser **instalada** \n",
    "    - ```pip install scikit-learn``` si usa ```pip```\n",
    "    - ```conda install scikit-learn``` si usa ```conda```"
   ]
  },
  {
   "cell_type": "markdown",
   "id": "9678c94f",
   "metadata": {
    "slideshow": {
     "slide_type": "slide"
    }
   },
   "source": [
    "# Scikit-Learn: Utilización"
   ]
  },
  {
   "cell_type": "markdown",
   "id": "4884df81",
   "metadata": {
    "slideshow": {
     "slide_type": "fragment"
    }
   },
   "source": [
    "Todo los objetos Scikit-Learn son consistentes entre sí\n",
    "* **Estimadores:** \n",
    "    - Método encargado de la **estimación** de los parámetros asociados al algoritmo. \n",
    "    - Objetos Scikit-Learn incluyen el método *fit()*, cuya entrada es el set de datos utilizados para el cálculo de los parámetros.\n",
    "* **Transformadores:** \n",
    "    - Método encargado de la **transformación** de datos en base a los parámetros calculados por método *fit()*. \n",
    "    - Objetos Scikit-Learn incluyen el método *transform()*, que recibe con los datos a transformar.\n",
    "    - Método *fit_transform()* permite realizar ambos pasos con un solo método.\n",
    "* **Predictores:** \n",
    "    - Método encargado de hacer **predicciones** en base a datos de entrada.\n",
    "    - Objetos Scikit-Learn incluyen el método *predict()*, para realizar predicciones en base a parámetros de entrada.\n",
    "        \n",
    "Cuáles de estos métodos están presentes, dependerá del tipo algoritmo a utilizar.\n",
    "    "
   ]
  },
  {
   "cell_type": "markdown",
   "id": "9983cbe5",
   "metadata": {
    "slideshow": {
     "slide_type": "slide"
    }
   },
   "source": [
    "# Escalamiento"
   ]
  },
  {
   "cell_type": "markdown",
   "id": "0bfec30e",
   "metadata": {
    "slideshow": {
     "slide_type": "fragment"
    }
   },
   "source": [
    "- Modificación del rango de valores de una característica\n",
    "- Tipos comunes de escalamiento:\n",
    "    * Escalamiento min-max (normalización): Rango entre 0 (mínimo) y 1 (máximo)\n",
    "    * Estandarización: Escalamiento a media cero y varianza unitaria\n",
    "    "
   ]
  },
  {
   "cell_type": "markdown",
   "id": "e7f806d9",
   "metadata": {
    "slideshow": {
     "slide_type": "slide"
    }
   },
   "source": [
    "# Estandarización con Scikit-Learn"
   ]
  },
  {
   "cell_type": "code",
   "execution_count": 16,
   "id": "7b0f2f0a",
   "metadata": {
    "slideshow": {
     "slide_type": "fragment"
    }
   },
   "outputs": [
    {
     "data": {
      "text/html": [
       "<div>\n",
       "<style scoped>\n",
       "    .dataframe tbody tr th:only-of-type {\n",
       "        vertical-align: middle;\n",
       "    }\n",
       "\n",
       "    .dataframe tbody tr th {\n",
       "        vertical-align: top;\n",
       "    }\n",
       "\n",
       "    .dataframe thead th {\n",
       "        text-align: right;\n",
       "    }\n",
       "</style>\n",
       "<table border=\"1\" class=\"dataframe\">\n",
       "  <thead>\n",
       "    <tr style=\"text-align: right;\">\n",
       "      <th></th>\n",
       "      <th>price</th>\n",
       "      <th>area</th>\n",
       "      <th>bedrooms</th>\n",
       "      <th>bathrooms</th>\n",
       "      <th>stories</th>\n",
       "      <th>mainroad</th>\n",
       "      <th>guestroom</th>\n",
       "      <th>basement</th>\n",
       "      <th>hotwaterheating</th>\n",
       "      <th>airconditioning</th>\n",
       "      <th>parking</th>\n",
       "      <th>prefarea</th>\n",
       "      <th>furnishingstatus</th>\n",
       "    </tr>\n",
       "  </thead>\n",
       "  <tbody>\n",
       "    <tr>\n",
       "      <th>0</th>\n",
       "      <td>13300000</td>\n",
       "      <td>7420</td>\n",
       "      <td>4</td>\n",
       "      <td>2</td>\n",
       "      <td>3</td>\n",
       "      <td>yes</td>\n",
       "      <td>no</td>\n",
       "      <td>no</td>\n",
       "      <td>no</td>\n",
       "      <td>yes</td>\n",
       "      <td>2</td>\n",
       "      <td>yes</td>\n",
       "      <td>furnished</td>\n",
       "    </tr>\n",
       "    <tr>\n",
       "      <th>1</th>\n",
       "      <td>12250000</td>\n",
       "      <td>8960</td>\n",
       "      <td>4</td>\n",
       "      <td>4</td>\n",
       "      <td>4</td>\n",
       "      <td>yes</td>\n",
       "      <td>no</td>\n",
       "      <td>no</td>\n",
       "      <td>no</td>\n",
       "      <td>yes</td>\n",
       "      <td>3</td>\n",
       "      <td>no</td>\n",
       "      <td>furnished</td>\n",
       "    </tr>\n",
       "    <tr>\n",
       "      <th>2</th>\n",
       "      <td>12250000</td>\n",
       "      <td>9960</td>\n",
       "      <td>3</td>\n",
       "      <td>2</td>\n",
       "      <td>2</td>\n",
       "      <td>yes</td>\n",
       "      <td>no</td>\n",
       "      <td>yes</td>\n",
       "      <td>no</td>\n",
       "      <td>no</td>\n",
       "      <td>2</td>\n",
       "      <td>yes</td>\n",
       "      <td>semi-furnished</td>\n",
       "    </tr>\n",
       "    <tr>\n",
       "      <th>3</th>\n",
       "      <td>12215000</td>\n",
       "      <td>7500</td>\n",
       "      <td>4</td>\n",
       "      <td>2</td>\n",
       "      <td>2</td>\n",
       "      <td>yes</td>\n",
       "      <td>no</td>\n",
       "      <td>yes</td>\n",
       "      <td>no</td>\n",
       "      <td>yes</td>\n",
       "      <td>3</td>\n",
       "      <td>yes</td>\n",
       "      <td>furnished</td>\n",
       "    </tr>\n",
       "    <tr>\n",
       "      <th>4</th>\n",
       "      <td>11410000</td>\n",
       "      <td>7420</td>\n",
       "      <td>4</td>\n",
       "      <td>1</td>\n",
       "      <td>2</td>\n",
       "      <td>yes</td>\n",
       "      <td>yes</td>\n",
       "      <td>yes</td>\n",
       "      <td>no</td>\n",
       "      <td>yes</td>\n",
       "      <td>2</td>\n",
       "      <td>no</td>\n",
       "      <td>furnished</td>\n",
       "    </tr>\n",
       "  </tbody>\n",
       "</table>\n",
       "</div>"
      ],
      "text/plain": [
       "      price  area  bedrooms  bathrooms  stories mainroad guestroom basement  \\\n",
       "0  13300000  7420         4          2        3      yes        no       no   \n",
       "1  12250000  8960         4          4        4      yes        no       no   \n",
       "2  12250000  9960         3          2        2      yes        no      yes   \n",
       "3  12215000  7500         4          2        2      yes        no      yes   \n",
       "4  11410000  7420         4          1        2      yes       yes      yes   \n",
       "\n",
       "  hotwaterheating airconditioning  parking prefarea furnishingstatus  \n",
       "0              no             yes        2      yes        furnished  \n",
       "1              no             yes        3       no        furnished  \n",
       "2              no              no        2      yes   semi-furnished  \n",
       "3              no             yes        3      yes        furnished  \n",
       "4              no             yes        2       no        furnished  "
      ]
     },
     "execution_count": 16,
     "metadata": {},
     "output_type": "execute_result"
    }
   ],
   "source": [
    "import pandas as pd\n",
    "df = pd.read_csv('data/housing.csv')\n",
    "df.head()"
   ]
  },
  {
   "cell_type": "markdown",
   "id": "494394d3",
   "metadata": {
    "slideshow": {
     "slide_type": "slide"
    }
   },
   "source": [
    "# Estandarización con Scikit-Learn"
   ]
  },
  {
   "cell_type": "code",
   "execution_count": 2,
   "id": "db22ea58",
   "metadata": {
    "slideshow": {
     "slide_type": "fragment"
    }
   },
   "outputs": [
    {
     "name": "stdout",
     "output_type": "stream",
     "text": [
      "Media de los datos [4766729.24770642]\n",
      "Varianza de los datos [3.49212501e+12]\n"
     ]
    },
    {
     "data": {
      "text/plain": [
       "(array([19., 42., 79., 89., 83., 54., 44., 42., 28., 19., 11., 14.,  8.,\n",
       "         4.,  3.,  1.,  1.,  0.,  3.,  1.]),\n",
       " array([-1.61432675, -1.30529216, -0.99625756, -0.68722297, -0.37818837,\n",
       "        -0.06915378,  0.23988081,  0.54891541,  0.85795   ,  1.16698459,\n",
       "         1.47601919,  1.78505378,  2.09408838,  2.40312297,  2.71215756,\n",
       "         3.02119216,  3.33022675,  3.63926134,  3.94829594,  4.25733053,\n",
       "         4.56636513]),\n",
       " <BarContainer object of 20 artists>)"
      ]
     },
     "execution_count": 2,
     "metadata": {},
     "output_type": "execute_result"
    },
    {
     "data": {
      "image/png": "[encoded data removed]",
      "text/plain": [
       "<Figure size 432x288 with 1 Axes>"
      ]
     },
     "metadata": {
      "needs_background": "light"
     },
     "output_type": "display_data"
    }
   ],
   "source": [
    "# Esta biblioteca se encarga de el escalamiento por estandarización\n",
    "# Es decir, bajo el supuesto que los datos se comportan como una \n",
    "# distribución normal\n",
    "from sklearn.preprocessing import StandardScaler \n",
    "scaler = StandardScaler() # Creación de objeto StandardScaler\n",
    "scaler.fit(df[['price']]) # Cálculo de parámetros de escalamiento\n",
    "print('Media de los datos', scaler.mean_)\n",
    "print('Varianza de los datos', scaler.var_)\n",
    "price_scaled = scaler.transform(df[['price']]) # Transformación de los datos\n",
    "import matplotlib.pyplot as plt\n",
    "plt.hist(price_scaled, bins=20)"
   ]
  },
  {
   "cell_type": "markdown",
   "id": "4c519919",
   "metadata": {
    "slideshow": {
     "slide_type": "slide"
    }
   },
   "source": [
    "# Estandarización con Scikit-Learn"
   ]
  },
  {
   "cell_type": "code",
   "execution_count": 3,
   "id": "b9d64c47",
   "metadata": {
    "slideshow": {
     "slide_type": "fragment"
    }
   },
   "outputs": [
    {
     "data": {
      "image/png": "[encoded data removed]",
      "text/plain": [
       "<Figure size 432x288 with 2 Axes>"
      ]
     },
     "metadata": {
      "needs_background": "light"
     },
     "output_type": "display_data"
    }
   ],
   "source": [
    "import matplotlib.pyplot as plt\n",
    "\n",
    "fig = plt.figure()\n",
    "\n",
    "ax1 = fig.add_subplot(1,2,1)\n",
    "ax1.hist(df['price'], bins=20)\n",
    "ax1.set_title('Precios reales')\n",
    "\n",
    "ax2 = fig.add_subplot(1,2,2)\n",
    "ax2.hist(price_scaled, bins=20)\n",
    "ax2.set_title('Precios escalados')\n",
    "\n",
    "plt.show()"
   ]
  },
  {
   "cell_type": "markdown",
   "id": "a4217a5b",
   "metadata": {
    "slideshow": {
     "slide_type": "slide"
    }
   },
   "source": [
    "# Regresión Lineal"
   ]
  },
  {
   "cell_type": "markdown",
   "id": "6c4a95d4",
   "metadata": {
    "slideshow": {
     "slide_type": "fragment"
    }
   },
   "source": [
    "- Modelo que permite realizar predicciones bajo el *supuesto* que los datos se comportan de manera lineal\n",
    "- **Recordatorio:** Ecuación de la recta 2-Dimensiones\n",
    "\n",
    "$$ y = m x + b$$\n",
    "    \n",
    "- $m$ : pendiente de la recta\n",
    "- $b$ : intercepto con el eje y"
   ]
  },
  {
   "cell_type": "code",
   "execution_count": 42,
   "id": "aee489de",
   "metadata": {
    "slideshow": {
     "slide_type": "fragment"
    }
   },
   "outputs": [
    {
     "data": {
      "image/png": "[encoded data removed]",
      "text/plain": [
       "<Figure size 432x288 with 1 Axes>"
      ]
     },
     "metadata": {
      "needs_background": "light"
     },
     "output_type": "display_data"
    }
   ],
   "source": [
    "import numpy as np\n",
    "import matplotlib.pyplot as plt\n",
    "np.random.seed(42) # Semilla para el generador aleatorio. 42 porque es el significado del universo y la vida :)\n",
    "\n",
    "x = np.arange(0,10,0.5) # Generar todos los valores en el eje x\n",
    "# La ecuación de la recta es y = mx + b\n",
    "m = 2 # Pendiente\n",
    "b = 3 # Intercepto\n",
    "y = m*x + b # Recta con pendiente m=2 e intercepto b = 3\n",
    "y_noise = (4*np.random.rand(len(y)) - 2) + y # Agregar ruido a los datos para emular una situación real\n",
    "\n",
    "# y_noise representa los datos con los que tu trabajarías en la realidad\n",
    "\n",
    "plt.plot(x,y_noise,'go', markerfacecolor=\"#ff0000\")\n",
    "plt.plot(x, y, '-r')\n",
    "plt.xlabel('Eje x')\n",
    "plt.ylabel('Eje y')\n",
    "plt.title('Visualización recta y=2x + 3 y valores (con ruido)')\n",
    "plt.show()"
   ]
  },
  {
   "cell_type": "markdown",
   "id": "23cc6ba4",
   "metadata": {
    "slideshow": {
     "slide_type": "slide"
    }
   },
   "source": [
    "# Regresión Lineal"
   ]
  },
  {
   "cell_type": "markdown",
   "id": "5abcd3f6",
   "metadata": {
    "slideshow": {
     "slide_type": "fragment"
    }
   },
   "source": [
    "- Generalización: plano n-dimensional\n",
    "\n",
    "$$ y = \\theta_0 + \\theta_1 x_1 + \\theta_2 x_2 + ... + \\theta_n x_n$$\n",
    "\n",
    "- $\\theta_j$ pendiente en la dimension $j$\n",
    "- $\\theta_0$ intercepto con eje $y$. También es llamado **bias** (prejuicio)\n",
    "\n",
    "### ¿Cuál es la recta que mejor representa mis datos?"
   ]
  },
  {
   "cell_type": "markdown",
   "id": "eb349ebf",
   "metadata": {
    "slideshow": {
     "slide_type": "slide"
    }
   },
   "source": [
    "# Regresión Lineal con Scikit-Learn"
   ]
  },
  {
   "cell_type": "code",
   "execution_count": 14,
   "id": "0ec46109",
   "metadata": {
    "slideshow": {
     "slide_type": "fragment"
    }
   },
   "outputs": [
    {
     "name": "stdout",
     "output_type": "stream",
     "text": [
      "El bias calculado es 3.2729298475154724 . El bias real es  3\n",
      "La pendiente calculada es:  [1.90692196] . La pendiente real es  2\n",
      "Para x=20, el valor predecido (y) es [41.41136903]\n",
      "Valor real para x=20 es 43\n"
     ]
    }
   ],
   "source": [
    "from sklearn.linear_model import LinearRegression\n",
    "lin_reg = LinearRegression() # Creación de objeto Regresor lineal Scikit-Learn\n",
    "X = x.reshape(-1,1) # Generación de vector columna\n",
    "lin_reg.fit(X, y_noise) # Cálculo de parámetros \\theta_0, \\theta_1... etc\n",
    "print('El bias calculado es', lin_reg.intercept_, '. El bias real es ', b)\n",
    "print('La pendiente calculada es: ', lin_reg.coef_, '. La pendiente real es ', m) \n",
    "# lin_reg.coef es una lista porque pueden ser múltiples parámetros\n",
    "\n",
    "# Predicción\n",
    "print('Para x=20, el valor predecido (y) es',lin_reg.predict([[20]]))\n",
    "print('Valor real para x=20 es', m*20 + b)"
   ]
  },
  {
   "cell_type": "markdown",
   "id": "3ecce5fa",
   "metadata": {
    "slideshow": {
     "slide_type": "slide"
    }
   },
   "source": [
    "# Regresión Lineal con Scikit-Learn"
   ]
  },
  {
   "cell_type": "code",
   "execution_count": 6,
   "id": "3beb0a0c",
   "metadata": {
    "slideshow": {
     "slide_type": "fragment"
    }
   },
   "outputs": [
    {
     "data": {
      "image/png": "[encoded data removed]",
      "text/plain": [
       "<Figure size 432x288 with 1 Axes>"
      ]
     },
     "metadata": {
      "needs_background": "light"
     },
     "output_type": "display_data"
    }
   ],
   "source": [
    "# Predicción con nuevos valores\n",
    "X_new = np.arange(10,20,0.5).reshape(-1,1)\n",
    "y_new = m*X_new + b\n",
    "fig = plt.figure()\n",
    "ax = fig.add_subplot(1,1,1)\n",
    "ax.plot(X_new, y_new, '--r')\n",
    "ax.plot(X_new, lin_reg.predict(X_new))\n",
    "ax.legend(['Recta real','Recta obtenida'])\n",
    "plt.show()"
   ]
  },
  {
   "cell_type": "markdown",
   "id": "7e8b52f2",
   "metadata": {
    "slideshow": {
     "slide_type": "slide"
    }
   },
   "source": [
    "# KNN - K Nearest Neighbors (K Vecinos más próximos)"
   ]
  },
  {
   "cell_type": "markdown",
   "id": "b20f5679",
   "metadata": {
    "slideshow": {
     "slide_type": "fragment"
    }
   },
   "source": [
    "- Uno de los algoritmos de ML más simple de implementar\n",
    "- Permite clasificación y regresión de datos"
   ]
  },
  {
   "cell_type": "markdown",
   "id": "56ff0909",
   "metadata": {
    "slideshow": {
     "slide_type": "slide"
    }
   },
   "source": [
    "# KNN con Scikit-Learn"
   ]
  },
  {
   "cell_type": "code",
   "execution_count": 25,
   "id": "7ae6dd7c",
   "metadata": {
    "slideshow": {
     "slide_type": "fragment"
    }
   },
   "outputs": [
    {
     "name": "stdout",
     "output_type": "stream",
     "text": [
      "['sepal length (cm)', 'sepal width (cm)', 'petal length (cm)', 'petal width (cm)']\n"
     ]
    },
    {
     "data": {
      "text/html": [
       "<div>\n",
       "<style scoped>\n",
       "    .dataframe tbody tr th:only-of-type {\n",
       "        vertical-align: middle;\n",
       "    }\n",
       "\n",
       "    .dataframe tbody tr th {\n",
       "        vertical-align: top;\n",
       "    }\n",
       "\n",
       "    .dataframe thead th {\n",
       "        text-align: right;\n",
       "    }\n",
       "</style>\n",
       "<table border=\"1\" class=\"dataframe\">\n",
       "  <thead>\n",
       "    <tr style=\"text-align: right;\">\n",
       "      <th></th>\n",
       "      <th>sepal length (cm)</th>\n",
       "      <th>sepal width (cm)</th>\n",
       "      <th>petal length (cm)</th>\n",
       "      <th>petal width (cm)</th>\n",
       "      <th>target</th>\n",
       "    </tr>\n",
       "  </thead>\n",
       "  <tbody>\n",
       "    <tr>\n",
       "      <th>0</th>\n",
       "      <td>5.1</td>\n",
       "      <td>3.5</td>\n",
       "      <td>1.4</td>\n",
       "      <td>0.2</td>\n",
       "      <td>0</td>\n",
       "    </tr>\n",
       "    <tr>\n",
       "      <th>1</th>\n",
       "      <td>4.9</td>\n",
       "      <td>3.0</td>\n",
       "      <td>1.4</td>\n",
       "      <td>0.2</td>\n",
       "      <td>0</td>\n",
       "    </tr>\n",
       "    <tr>\n",
       "      <th>2</th>\n",
       "      <td>4.7</td>\n",
       "      <td>3.2</td>\n",
       "      <td>1.3</td>\n",
       "      <td>0.2</td>\n",
       "      <td>0</td>\n",
       "    </tr>\n",
       "    <tr>\n",
       "      <th>3</th>\n",
       "      <td>4.6</td>\n",
       "      <td>3.1</td>\n",
       "      <td>1.5</td>\n",
       "      <td>0.2</td>\n",
       "      <td>0</td>\n",
       "    </tr>\n",
       "    <tr>\n",
       "      <th>4</th>\n",
       "      <td>5.0</td>\n",
       "      <td>3.6</td>\n",
       "      <td>1.4</td>\n",
       "      <td>0.2</td>\n",
       "      <td>0</td>\n",
       "    </tr>\n",
       "    <tr>\n",
       "      <th>...</th>\n",
       "      <td>...</td>\n",
       "      <td>...</td>\n",
       "      <td>...</td>\n",
       "      <td>...</td>\n",
       "      <td>...</td>\n",
       "    </tr>\n",
       "    <tr>\n",
       "      <th>145</th>\n",
       "      <td>6.7</td>\n",
       "      <td>3.0</td>\n",
       "      <td>5.2</td>\n",
       "      <td>2.3</td>\n",
       "      <td>2</td>\n",
       "    </tr>\n",
       "    <tr>\n",
       "      <th>146</th>\n",
       "      <td>6.3</td>\n",
       "      <td>2.5</td>\n",
       "      <td>5.0</td>\n",
       "      <td>1.9</td>\n",
       "      <td>2</td>\n",
       "    </tr>\n",
       "    <tr>\n",
       "      <th>147</th>\n",
       "      <td>6.5</td>\n",
       "      <td>3.0</td>\n",
       "      <td>5.2</td>\n",
       "      <td>2.0</td>\n",
       "      <td>2</td>\n",
       "    </tr>\n",
       "    <tr>\n",
       "      <th>148</th>\n",
       "      <td>6.2</td>\n",
       "      <td>3.4</td>\n",
       "      <td>5.4</td>\n",
       "      <td>2.3</td>\n",
       "      <td>2</td>\n",
       "    </tr>\n",
       "    <tr>\n",
       "      <th>149</th>\n",
       "      <td>5.9</td>\n",
       "      <td>3.0</td>\n",
       "      <td>5.1</td>\n",
       "      <td>1.8</td>\n",
       "      <td>2</td>\n",
       "    </tr>\n",
       "  </tbody>\n",
       "</table>\n",
       "<p>150 rows × 5 columns</p>\n",
       "</div>"
      ],
      "text/plain": [
       "     sepal length (cm)  sepal width (cm)  petal length (cm)  petal width (cm)  \\\n",
       "0                  5.1               3.5                1.4               0.2   \n",
       "1                  4.9               3.0                1.4               0.2   \n",
       "2                  4.7               3.2                1.3               0.2   \n",
       "3                  4.6               3.1                1.5               0.2   \n",
       "4                  5.0               3.6                1.4               0.2   \n",
       "..                 ...               ...                ...               ...   \n",
       "145                6.7               3.0                5.2               2.3   \n",
       "146                6.3               2.5                5.0               1.9   \n",
       "147                6.5               3.0                5.2               2.0   \n",
       "148                6.2               3.4                5.4               2.3   \n",
       "149                5.9               3.0                5.1               1.8   \n",
       "\n",
       "     target  \n",
       "0         0  \n",
       "1         0  \n",
       "2         0  \n",
       "3         0  \n",
       "4         0  \n",
       "..      ...  \n",
       "145       2  \n",
       "146       2  \n",
       "147       2  \n",
       "148       2  \n",
       "149       2  \n",
       "\n",
       "[150 rows x 5 columns]"
      ]
     },
     "execution_count": 25,
     "metadata": {},
     "output_type": "execute_result"
    }
   ],
   "source": [
    "from sklearn.preprocessing import StandardScaler\n",
    "from sklearn.datasets import load_iris\n",
    "from sklearn.neighbors import KNeighborsClassifier\n",
    "\n",
    "data = load_iris()\n",
    "df = pd.DataFrame(data.data, columns=data.feature_names)\n",
    "df['target'] = data.target\n",
    "df"
   ]
  },
  {
   "cell_type": "code",
   "execution_count": 43,
   "id": "252c00f4",
   "metadata": {
    "slideshow": {
     "slide_type": "fragment"
    }
   },
   "outputs": [],
   "source": [
    "from sklearn.model_selection import train_test_split\n",
    "\n",
    "X = df.drop(columns=['target']) # Separación de las características\n",
    "y = df['target'] # Separación del target (corresponde a lo que quiero predecir)\n",
    "\n",
    "X_train, X_test, y_train, y_test = train_test_split(X, y, \n",
    "                                                    test_size=0.3,\n",
    "                                                    random_state=42)\n",
    "\n",
    "\n",
    "scaler = StandardScaler()\n",
    "scaler.fit(X_train)\n",
    "X_train = scaler.transform(X_train)\n",
    "X_test = scaler.transform(X_test) # Ojo: escalamiento de test se hace en base al train"
   ]
  },
  {
   "cell_type": "code",
   "execution_count": 14,
   "id": "2cdd7b91",
   "metadata": {
    "slideshow": {
     "slide_type": "fragment"
    }
   },
   "outputs": [
    {
     "name": "stdout",
     "output_type": "stream",
     "text": [
      "[1, 0, 2, 1, 1, 0, 1, 2, 2, 1, 2, 0, 0, 0, 0, 1, 2, 1, 1, 2, 0, 2, 0, 2, 2, 2, 2, 2, 0, 0, 0, 0, 1, 0, 0, 2, 1, 0, 0, 0, 2, 1, 1, 0, 0]\n",
      "[1, 0, 2, 1, 1, 0, 1, 2, 1, 1, 2, 0, 0, 0, 0, 1, 2, 1, 1, 2, 0, 2, 0, 2, 2, 2, 2, 2, 0, 0, 0, 0, 1, 0, 0, 2, 1, 0, 0, 0, 2, 1, 1, 0, 0]\n",
      "Accuracy: 0.9777777777777777\n"
     ]
    }
   ],
   "source": [
    "knn = KNeighborsClassifier(n_neighbors=1)\n",
    "knn.fit(X_train, y_train) # Ojo: fit en base a los de entrenamiento!!\n",
    "predictions = knn.predict(X_test)\n",
    "print(predictions.tolist())\n",
    "print(y_test.tolist())\n",
    "print('Accuracy:',knn.score(X_test, y_test))"
   ]
  },
  {
   "cell_type": "markdown",
   "id": "ba661a96",
   "metadata": {
    "slideshow": {
     "slide_type": "slide"
    }
   },
   "source": [
    "# Actividad 4"
   ]
  },
  {
   "cell_type": "markdown",
   "id": "e847f5ef",
   "metadata": {
    "slideshow": {
     "slide_type": "fragment"
    }
   },
   "source": [
    "Scikit-Learn no es solo una potente herramienta para la aplicación de distintos algoritmos de ML, sino que también provee algunos populares set de datos con los cuales puedes probar tanto algoritmos de clasificación como de regresión\n",
    "\n",
    "- Estudie los datasets disponibles en Scikit-learn [aquí](https://scikit-learn.org/stable/datasets/toy_dataset.html) y cómo utilizarlos.\n",
    "- Descargue el dataset **Diabetes dataset** disponible en Scikit-Learn.\n",
    "- Utilice un regresor lineal y KNN para la progresión de la enfermedad. \n",
    "- Compare gráficamente ambas técnicas."
   ]
  },
  {
   "cell_type": "code",
   "execution_count": 1,
   "id": "2a0a3261",
   "metadata": {
    "slideshow": {
     "slide_type": "skip"
    }
   },
   "outputs": [
    {
     "data": {
      "text/html": [
       "\n",
       "<style>\n",
       ".output_png {\n",
       "    display: table-cell;\n",
       "    text-align: center;\n",
       "    vertical-align: middle;\n",
       "}\n",
       "</style>\n"
      ],
      "text/plain": [
       "<IPython.core.display.HTML object>"
      ]
     },
     "execution_count": 1,
     "metadata": {},
     "output_type": "execute_result"
    }
   ],
   "source": [
    "from IPython.core.display import HTML\n",
    "HTML(\"\"\"\n",
    "<style>\n",
    ".output_png {\n",
    "    display: table-cell;\n",
    "    text-align: center;\n",
    "    vertical-align: middle;\n",
    "}\n",
    "</style>\n",
    "\"\"\")\n",
    "#codigo extra, para que imagenes de matplotlib\n",
    "#estén centradas en las diapositivas, ejecutar antes de lanzar los ejemplos."
   ]
  }
 ],
 "metadata": {
  "celltoolbar": "Slideshow",
  "kernelspec": {
   "display_name": "Python 3 (ipykernel)",
   "language": "python",
   "name": "python3"
  },
  "language_info": {
   "codemirror_mode": {
    "name": "ipython",
    "version": 3
   },
   "file_extension": ".py",
   "mimetype": "text/x-python",
   "name": "python",
   "nbconvert_exporter": "python",
   "pygments_lexer": "ipython3",
   "version": "3.8.12"
  }
 },
 "nbformat": 4,
 "nbformat_minor": 5
}
