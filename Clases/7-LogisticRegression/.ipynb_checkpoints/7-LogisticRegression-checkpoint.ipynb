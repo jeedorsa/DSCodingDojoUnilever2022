{
 "cells": [
  {
   "cell_type": "markdown",
   "id": "ed8fa137",
   "metadata": {
    "slideshow": {
     "slide_type": "slide"
    }
   },
   "source": [
    "<br/>\n",
    "<img src=\"images/cd-logo-blue-600x600.png\" alt=\"\" width=\"130px\" align=\"left\"/>\n",
    "<img src=\"images/cd-logo-blue-600x600.png\" alt=\"\" width=\"130px\" align=\"right\"/>\n",
    "<div align=\"center\">\n",
    "<h2>Bootcamp Data Science - Módulo 2</h2><br/>\n",
    "<h1>Regresión logística, hiperparámetros y regularización</h1>\n",
    "<br/><br/>\n",
    "    <b>Instructor Principal:</b> Patricio Olivares polivares@codingdojo.cl <br/>\n",
    "    <b>Instructor Asistente:</b> Jesús Ortiz jortiz@codingdojo.cl<br/><br/>\n",
    "    <b>Coding Dojo</b>\n",
    "</div>\n",
    "<br>\n",
    "Fuente: \"Hands-on Machine Learning with Scikit-Learn, Keras & TensorFlow\""
   ]
  },
  {
   "cell_type": "markdown",
   "id": "19951c3c",
   "metadata": {
    "slideshow": {
     "slide_type": "slide"
    }
   },
   "source": [
    "# Regresión Logística (Logistic Regression)"
   ]
  },
  {
   "cell_type": "markdown",
   "id": "383fde52",
   "metadata": {
    "slideshow": {
     "slide_type": "fragment"
    }
   },
   "source": [
    "- **Contexto**: Intentemos utilizar la regresión lineal como un clasificador"
   ]
  },
  {
   "cell_type": "code",
   "execution_count": 1,
   "id": "a53649d8",
   "metadata": {
    "slideshow": {
     "slide_type": "fragment"
    }
   },
   "outputs": [
    {
     "name": "stdout",
     "output_type": "stream",
     "text": [
      "Características ['mean radius' 'mean texture' 'mean perimeter' 'mean area'\n",
      " 'mean smoothness' 'mean compactness' 'mean concavity'\n",
      " 'mean concave points' 'mean symmetry' 'mean fractal dimension'\n",
      " 'radius error' 'texture error' 'perimeter error' 'area error'\n",
      " 'smoothness error' 'compactness error' 'concavity error'\n",
      " 'concave points error' 'symmetry error' 'fractal dimension error'\n",
      " 'worst radius' 'worst texture' 'worst perimeter' 'worst area'\n",
      " 'worst smoothness' 'worst compactness' 'worst concavity'\n",
      " 'worst concave points' 'worst symmetry' 'worst fractal dimension']\n",
      "Target ['benign' 'malignant']\n"
     ]
    }
   ],
   "source": [
    "from sklearn.datasets import load_breast_cancer\n",
    "\n",
    "# Set de datos sobre datos de cancer de mamas en Wisconsin \n",
    "# Objetivo: clasificación de tumores benignos y malignos\n",
    "br_cancer = load_breast_cancer()\n",
    "print('Características', br_cancer.feature_names)\n",
    "# Originalmente 0 es maligno y 1 es benigno. Lo invertiremos\n",
    "print('Target', br_cancer.target_names[::-1]) \n"
   ]
  },
  {
   "cell_type": "code",
   "execution_count": 3,
   "id": "153ba583",
   "metadata": {
    "slideshow": {
     "slide_type": "fragment"
    }
   },
   "outputs": [
    {
     "data": {
      "image/png": "[encoded data removed]",
      "text/plain": [
       "<Figure size 432x288 with 1 Axes>"
      ]
     },
     "metadata": {
      "needs_background": "light"
     },
     "output_type": "display_data"
    }
   ],
   "source": [
    "import matplotlib.pyplot as plt\n",
    "from sklearn.model_selection import train_test_split\n",
    "\n",
    "X = br_cancer.data[:, 0].reshape(-1,1) # mean_radius\n",
    "y = 1 - br_cancer.target # Nuevamente inversión maligno/benigno 0/1\n",
    "# Luego de inversión: benigno 0 y maligno 1\n",
    "\n",
    "X_train, X_test, y_train, y_test = train_test_split(X, y, \n",
    "                                                    test_size=0.2, \n",
    "                                                    random_state=42)\n",
    "\n",
    "plt.plot(X_train, y_train,'bo')\n",
    "plt.show()"
   ]
  },
  {
   "cell_type": "code",
   "execution_count": 64,
   "id": "60cd83e0",
   "metadata": {
    "slideshow": {
     "slide_type": "fragment"
    }
   },
   "outputs": [
    {
     "name": "stdout",
     "output_type": "stream",
     "text": [
      "Intercepto: -1.0154354797965857\n",
      "Coeficientes: [0.09823629]\n"
     ]
    },
    {
     "data": {
      "image/png": "[encoded data removed]",
      "text/plain": [
       "<Figure size 432x288 with 1 Axes>"
      ]
     },
     "metadata": {
      "needs_background": "light"
     },
     "output_type": "display_data"
    }
   ],
   "source": [
    "# Ajustando modelo de regresión lineal\n",
    "\n",
    "from sklearn.linear_model import LinearRegression\n",
    "\n",
    "# Entrenamiento regresor lineal\n",
    "lin_reg = LinearRegression()\n",
    "lin_reg.fit(X_train, y_train)\n",
    "\n",
    "print('Intercepto:', lin_reg.intercept_, )\n",
    "print('Coeficientes:', lin_reg.coef_ )\n",
    "\n",
    "# Gráfico datos reales test vs predicciones de test\n",
    "plt.plot(X_test, y_test,'bo')\n",
    "plt.plot(X_test, lin_reg.predict(X_test),'r.')\n",
    "plt.xlabel('Radio promedio tumor')\n",
    "plt.ylabel('Tipo tumor 0/benigno 1/maligno')\n",
    "plt.show()"
   ]
  },
  {
   "cell_type": "markdown",
   "id": "87c2b816",
   "metadata": {
    "slideshow": {
     "slide_type": "fragment"
    }
   },
   "source": [
    "- Regresión lineal simplemente hace regresión sobre los datos. ¿Cómo podemos clasificar usando este modelo? \n",
    "    - R: *umbral*\n",
    "    \n",
    "\\begin{align}\n",
    "    \\hat{y}=\\left\\{\n",
    "    \\begin{array}{ll}\n",
    "      0, & \\mbox{si $\\hat{p} <0.5$}.\\\\\n",
    "      1, & \\mbox{si $\\hat{p} \\geq0.5$}.\n",
    "    \\end{array}\n",
    "  \\right.\n",
    "\\end{align}\n",
    "\n",
    "donde $\\hat{p}$ es el valor predicho por el regresor lineal e $\\hat{y}$ es la clase predicha. En este ejemplo, escogeremos el umbral en 0.5 para clasificación\n",
    "- Problema: ¿Cómo interpretamos los valores de la regresión lineal? por ejemplo  $\\hat{p}=-0.25$\n",
    "- La regresión logística hace la regresión lineal **interpretable**"
   ]
  },
  {
   "cell_type": "markdown",
   "id": "a6336830",
   "metadata": {
    "slideshow": {
     "slide_type": "fragment"
    }
   },
   "source": [
    "### Regresión logística\n",
    "\n",
    "- A pesar de hacer regresión, se utiliza normalmente para clasificación\n",
    "- Permite darle una interpretación a los valores obtenidos por la regresión: Probabilidad de pertenecer a cierta clase\n",
    "- Ecuación de función logística\n",
    "\n",
    "$$ \\sigma(t) = \\frac{1}{1+e^{-t}} = \\frac{1}{1+\\frac{1}{e^t}}$$\n",
    "\n",
    "<img src='images/logisticFunction.png' width=600>"
   ]
  },
  {
   "cell_type": "code",
   "execution_count": 14,
   "id": "ccac5cbf",
   "metadata": {
    "slideshow": {
     "slide_type": "fragment"
    }
   },
   "outputs": [
    {
     "data": {
      "image/png": "[encoded data removed]",
      "text/plain": [
       "<Figure size 432x288 with 1 Axes>"
      ]
     },
     "metadata": {
      "needs_background": "light"
     },
     "output_type": "display_data"
    }
   ],
   "source": [
    "from sklearn.linear_model import LogisticRegression\n",
    "\n",
    "# Entrenamiento regresión logística\n",
    "log_reg = LogisticRegression()\n",
    "log_reg.fit(X_train, y_train)\n",
    "\n",
    "# Gráfico datos reales test vs predicciones de test\n",
    "plt.plot(X_test, y_test,'bo')\n",
    "# Ojo, predict retorna a qué clase pertenece\n",
    "# Para obtener las probabilidades, se debe utilizar método predict_proba de LogisticRegression\n",
    "plt.plot(X_test, log_reg.predict_proba(X_test)[:,1],'r.')\n",
    "plt.plot(X_test, log_reg.predict_proba(X_test)[:,0],'g.')\n",
    "plt.xlabel('Radio promedio tumor')\n",
    "plt.ylabel('Tipo tumor 0/benigno 1/maligno')\n",
    "plt.show()"
   ]
  },
  {
   "cell_type": "code",
   "execution_count": 13,
   "id": "6c418152",
   "metadata": {},
   "outputs": [
    {
     "name": "stdout",
     "output_type": "stream",
     "text": [
      "Predicción de regresión logística [0 1 1 0 0 1 1 1 0 0 0 1 1 1 0 1 1 0 0 1 0 0 1 0 0 0 0 0 0 1 0 0 0 0 0 0 1\n",
      " 0 1 0 0 1 0 0 0 0 0 0 0 0 1 1 0 0 0 0 0 1 0 0 0 1 1 0 0 0 1 1 0 0 0 1 0 1\n",
      " 0 0 0 0 0 0 1 0 0 1 1 1 0 1 0 0 0 0 1 0 0 0 1 0 0 1 1 0 1 1 0 0 0 1 0 0 1\n",
      " 0 0 1]\n",
      "Valor target real [0 1 1 0 0 1 1 1 0 0 0 1 0 1 0 1 0 0 0 1 1 0 1 0 0 0 0 0 0 1 0 0 0 0 0 0 1\n",
      " 0 1 0 0 1 0 0 0 0 0 0 0 0 1 1 0 0 0 0 0 1 1 0 0 1 1 0 0 0 1 1 0 0 1 1 0 1\n",
      " 0 0 0 1 0 0 1 0 1 1 1 1 1 1 0 0 0 0 0 0 0 0 1 1 0 1 1 0 1 1 0 0 0 1 0 0 1\n",
      " 0 0 1]\n",
      "[[9.00915621e-01 9.90843787e-02]\n",
      " [1.92626638e-02 9.80737336e-01]\n",
      " [3.47751832e-01 6.52248168e-01]\n",
      " [9.06687456e-01 9.33125440e-02]\n",
      " [9.56464086e-01 4.35359140e-02]\n",
      " [4.05054007e-03 9.95949460e-01]\n",
      " [1.06639827e-03 9.98933602e-01]\n",
      " [6.71994939e-02 9.32800506e-01]\n",
      " [7.99334444e-01 2.00665556e-01]\n",
      " [7.00758470e-01 2.99241530e-01]\n",
      " [8.18387479e-01 1.81612521e-01]\n",
      " [1.32260819e-01 8.67739181e-01]\n",
      " [4.59063864e-01 5.40936136e-01]\n",
      " [1.99754002e-01 8.00245998e-01]\n",
      " [9.11392770e-01 8.86072296e-02]\n",
      " [1.65950705e-02 9.83404930e-01]\n",
      " [4.96916895e-01 5.03083105e-01]\n",
      " [9.87856622e-01 1.21433780e-02]\n",
      " [9.99397860e-01 6.02139737e-04]\n",
      " [4.24645503e-03 9.95753545e-01]\n",
      " [7.20264563e-01 2.79735437e-01]\n",
      " [9.28137776e-01 7.18622241e-02]\n",
      " [1.55775104e-03 9.98442249e-01]\n",
      " [9.89250350e-01 1.07496498e-02]\n",
      " [9.54031477e-01 4.59685227e-02]\n",
      " [7.68862946e-01 2.31137054e-01]\n",
      " [8.08308589e-01 1.91691411e-01]\n",
      " [9.86284698e-01 1.37153024e-02]\n",
      " [8.73508175e-01 1.26491825e-01]\n",
      " [9.28320218e-02 9.07167978e-01]\n",
      " [9.70072456e-01 2.99275438e-02]\n",
      " [9.30627870e-01 6.93721302e-02]\n",
      " [9.91799103e-01 8.20089717e-03]\n",
      " [7.42615777e-01 2.57384223e-01]\n",
      " [9.87626911e-01 1.23730888e-02]\n",
      " [9.57247301e-01 4.27526988e-02]\n",
      " [2.38637560e-01 7.61362440e-01]\n",
      " [9.47843120e-01 5.21568802e-02]\n",
      " [3.64182362e-02 9.63581764e-01]\n",
      " [5.41877998e-01 4.58122002e-01]\n",
      " [9.83466724e-01 1.65332757e-02]\n",
      " [4.33285163e-01 5.66714837e-01]\n",
      " [9.53613659e-01 4.63863406e-02]\n",
      " [9.42949228e-01 5.70507720e-02]\n",
      " [9.40343370e-01 5.96566304e-02]\n",
      " [9.63714650e-01 3.62853499e-02]\n",
      " [9.94618063e-01 5.38193704e-03]\n",
      " [9.93927458e-01 6.07254152e-03]\n",
      " [9.51029935e-01 4.89700650e-02]\n",
      " [8.59243284e-01 1.40756716e-01]\n",
      " [9.36339870e-02 9.06366013e-01]\n",
      " [2.56790931e-02 9.74320907e-01]\n",
      " [8.32063464e-01 1.67936536e-01]\n",
      " [6.92741481e-01 3.07258519e-01]\n",
      " [9.39808987e-01 6.01910132e-02]\n",
      " [8.23959215e-01 1.76040785e-01]\n",
      " [9.86788626e-01 1.32113743e-02]\n",
      " [5.08045510e-05 9.99949195e-01]\n",
      " [7.77184366e-01 2.22815634e-01]\n",
      " [9.65337260e-01 3.46627398e-02]\n",
      " [8.62650131e-01 1.37349869e-01]\n",
      " [9.55015848e-03 9.90449842e-01]\n",
      " [1.63329347e-03 9.98366707e-01]\n",
      " [5.93053262e-01 4.06946738e-01]\n",
      " [9.14409587e-01 8.55904128e-02]\n",
      " [8.87469185e-01 1.12530815e-01]\n",
      " [2.82418882e-01 7.17581118e-01]\n",
      " [6.02122212e-03 9.93978778e-01]\n",
      " [9.44461028e-01 5.55389720e-02]\n",
      " [8.48597516e-01 1.51402484e-01]\n",
      " [7.25962405e-01 2.74037595e-01]\n",
      " [2.82418882e-01 7.17581118e-01]\n",
      " [6.67995504e-01 3.32004496e-01]\n",
      " [1.71141792e-01 8.28858208e-01]\n",
      " [9.98776543e-01 1.22345722e-03]\n",
      " [7.78822761e-01 2.21177239e-01]\n",
      " [6.74276533e-01 3.25723467e-01]\n",
      " [6.88688490e-01 3.11311510e-01]\n",
      " [9.78939433e-01 2.10605665e-02]\n",
      " [9.65966526e-01 3.40334738e-02]\n",
      " [2.15350449e-01 7.84649551e-01]\n",
      " [9.66584764e-01 3.34152361e-02]\n",
      " [5.74616622e-01 4.25383378e-01]\n",
      " [2.93714052e-03 9.97062859e-01]\n",
      " [4.87056224e-02 9.51294378e-01]\n",
      " [3.78450770e-01 6.21549230e-01]\n",
      " [9.01759209e-01 9.82407913e-02]\n",
      " [6.54374238e-02 9.34562576e-01]\n",
      " [9.31237800e-01 6.87622003e-02]\n",
      " [8.62650131e-01 1.37349869e-01]\n",
      " [9.34213572e-01 6.57864278e-02]\n",
      " [7.80452511e-01 2.19547489e-01]\n",
      " [4.42625005e-01 5.57374995e-01]\n",
      " [9.68083279e-01 3.19167213e-02]\n",
      " [9.67491834e-01 3.25081665e-02]\n",
      " [9.91524595e-01 8.47540523e-03]\n",
      " [6.31185020e-03 9.93688150e-01]\n",
      " [7.18349261e-01 2.81650739e-01]\n",
      " [9.69516712e-01 3.04832884e-02]\n",
      " [8.73890690e-02 9.12610931e-01]\n",
      " [2.98049151e-01 7.01950849e-01]\n",
      " [9.91829908e-01 8.17009173e-03]\n",
      " [4.36941498e-02 9.56305850e-01]\n",
      " [4.61351736e-02 9.53864826e-01]\n",
      " [9.77525959e-01 2.24740414e-02]\n",
      " [9.47372157e-01 5.26278427e-02]\n",
      " [9.11392770e-01 8.86072296e-02]\n",
      " [3.83069196e-04 9.99616931e-01]\n",
      " [5.83864273e-01 4.16135727e-01]\n",
      " [5.37164564e-01 4.62835436e-01]\n",
      " [2.30126930e-01 7.69873070e-01]\n",
      " [9.57247301e-01 4.27526988e-02]\n",
      " [6.33521394e-01 3.66478606e-01]\n",
      " [3.58228042e-03 9.96417720e-01]]\n",
      "[1. 1. 1. 1. 1. 1. 1. 1. 1. 1. 1. 1. 1. 1. 1. 1. 1. 1. 1. 1. 1. 1. 1. 1.\n",
      " 1. 1. 1. 1. 1. 1. 1. 1. 1. 1. 1. 1. 1. 1. 1. 1. 1. 1. 1. 1. 1. 1. 1. 1.\n",
      " 1. 1. 1. 1. 1. 1. 1. 1. 1. 1. 1. 1. 1. 1. 1. 1. 1. 1. 1. 1. 1. 1. 1. 1.\n",
      " 1. 1. 1. 1. 1. 1. 1. 1. 1. 1. 1. 1. 1. 1. 1. 1. 1. 1. 1. 1. 1. 1. 1. 1.\n",
      " 1. 1. 1. 1. 1. 1. 1. 1. 1. 1. 1. 1. 1. 1. 1. 1. 1. 1.]\n"
     ]
    }
   ],
   "source": [
    "import numpy as np\n",
    "print(\"Predicción de regresión logística\", log_reg.predict(X_test))\n",
    "print(\"Valor target real\", y_test)\n",
    "print(log_reg.predict_proba(X_test))\n",
    "print(np.sum(log_reg.predict_proba(X_test),axis=1))"
   ]
  },
  {
   "cell_type": "markdown",
   "id": "d1484650",
   "metadata": {
    "slideshow": {
     "slide_type": "slide"
    }
   },
   "source": [
    "# Regresión Ridge"
   ]
  },
  {
   "cell_type": "markdown",
   "id": "578f25bf",
   "metadata": {
    "slideshow": {
     "slide_type": "fragment"
    }
   },
   "source": [
    "- Agrega una penalización a parámetros $\\theta$ de regresión lineal para evitar overfitting.\n",
    "- Penalización está definida por parámetro $\\alpha$. A mayor $\\alpha$, menores deben ser los valores de $\\theta$ para compensar.\n",
    "- También se puede utilizar como clasificador"
   ]
  },
  {
   "cell_type": "code",
   "execution_count": 12,
   "id": "83bcd750",
   "metadata": {
    "slideshow": {
     "slide_type": "fragment"
    }
   },
   "outputs": [
    {
     "name": "stdout",
     "output_type": "stream",
     "text": [
      "Intercepto: -1.0154354797965859\n",
      "Coeficientes: [0.09823629]\n"
     ]
    },
    {
     "data": {
      "image/png": "[encoded data removed]",
      "text/plain": [
       "<Figure size 432x288 with 1 Axes>"
      ]
     },
     "metadata": {
      "needs_background": "light"
     },
     "output_type": "display_data"
    }
   ],
   "source": [
    "from sklearn.linear_model import Ridge\n",
    "\n",
    "rid_clf = Ridge(alpha=0) #probar cambiar alpha\n",
    "rid_clf.fit(X_train, y_train)\n",
    "\n",
    "print('Intercepto:', rid_clf.intercept_, )\n",
    "print('Coeficientes:', rid_clf.coef_ )\n",
    "\n",
    "plt.plot(X_test, y_test,'bo')\n",
    "plt.plot(X_test, rid_clf.predict(X_test),'r.')\n",
    "plt.xlabel('Radio promedio tumor')\n",
    "plt.ylabel('Tipo tumor 0/benigno 1/maligno')\n",
    "plt.show()"
   ]
  },
  {
   "cell_type": "markdown",
   "id": "0e8f2a57",
   "metadata": {
    "slideshow": {
     "slide_type": "slide"
    }
   },
   "source": [
    "# Clasificación multiclase"
   ]
  },
  {
   "cell_type": "markdown",
   "id": "59a488a4",
   "metadata": {
    "slideshow": {
     "slide_type": "fragment"
    }
   },
   "source": [
    "- Hasta ahora hemos estudiado clasificadores binarios: solo son capaces de distinguir entre dos clases.\n",
    "- Es posible extender algoritmos binarios para poder identificar múltiples clases\n",
    "- Estrategias:\n",
    "    - Uno contra Todos (One versus All/One versus the Rest) (OvA/OvR)\n",
    "    - Uno contra Uno (One versus One) (OvO)"
   ]
  },
  {
   "cell_type": "code",
   "execution_count": 13,
   "id": "54a2f24f",
   "metadata": {},
   "outputs": [
    {
     "name": "stdout",
     "output_type": "stream",
     "text": [
      "Accuracy test:  0.9611111111111111\n"
     ]
    }
   ],
   "source": [
    "# Usando dataset MNIST para clasificación multiclase\n",
    "from sklearn.datasets import load_digits\n",
    "from sklearn.linear_model import LogisticRegression\n",
    "\n",
    "digits = load_digits()\n",
    "X = digits.data # Ojo, en scikit learn, ya vienen los datos en formato fila!!\n",
    "y = digits.target\n",
    "\n",
    "X_train, X_test, y_train, y_test = train_test_split(X, y, \n",
    "                                                    test_size=0.2, \n",
    "                                                    random_state=42)\n",
    "log_reg = LogisticRegression(solver='liblinear',\n",
    "                            multi_class='ovr')\n",
    "log_reg.fit(X_train, y_train)\n",
    "\n",
    "print('Accuracy test: ', log_reg.score(X_test,y_test))"
   ]
  },
  {
   "cell_type": "code",
   "execution_count": 14,
   "id": "74828e52",
   "metadata": {},
   "outputs": [
    {
     "name": "stdout",
     "output_type": "stream",
     "text": [
      "Valores reales [6 9 3 7 2 1 5 2 5 2 1 9 4 0 4 2 3 7 8 8 4 3 9 7 5 6 3 5 6 3 4 9 1 4 4 6 9\n",
      " 4 7 6 6 9 1 3 6 1 3 0 6 5 5 1 9 5 6 0 9 0 0 1 0 4 5 2 4 5 7 0 7 5 9 5 5 4\n",
      " 7 0 4 5 5 9 9 0 2 3 8 0 6 4 4 9 1 2 8 3 5 2 9 0 4 4 4 3 5 3 1 3 5 9 4 2 7\n",
      " 7 4 4 1 9 2 7 8 7 2 6 9 4 0 7 2 7 5 8 7 5 7 7 0 6 6 4 2 8 0 9 4 6 9 9 6 9\n",
      " 0 3 5 6 6 0 6 4 3 9 3 9 7 2 9 0 4 5 3 6 5 9 9 8 4 2 1 3 7 7 2 2 3 9 8 0 3\n",
      " 2 2 5 6 9 9 4 1 5 4 2 3 6 4 8 5 9 5 7 8 9 4 8 1 5 4 4 9 6 1 8 6 0 4 5 2 7\n",
      " 4 6 4 5 6 0 3 2 3 6 7 1 5 1 4 7 6 8 8 5 5 1 6 2 8 8 9 9 7 6 2 2 2 3 4 8 8\n",
      " 3 6 0 9 7 7 0 1 0 4 5 1 5 3 6 0 4 1 0 0 3 6 5 9 7 3 5 5 9 9 8 5 3 3 2 0 5\n",
      " 8 3 4 0 2 4 6 4 3 4 5 0 5 2 1 3 1 4 1 1 7 0 1 5 2 1 2 8 7 0 6 4 8 8 5 1 8\n",
      " 4 5 8 7 9 8 5 0 6 2 0 7 9 8 9 5 2 7 7 1 8 7 4 3 8 3 5]\n",
      "Predicciones: [6 9 3 7 2 1 5 2 5 2 1 8 4 0 4 2 3 7 8 8 4 3 9 7 5 6 3 5 6 3 4 9 1 4 4 6 9\n",
      " 4 7 6 6 9 1 3 6 1 3 0 6 5 5 1 9 5 6 0 9 0 0 1 0 4 5 2 4 5 7 0 7 5 9 5 5 4\n",
      " 7 0 4 5 5 9 9 0 2 3 8 0 6 4 4 9 1 2 8 3 5 2 9 0 4 4 4 3 5 3 1 3 5 9 4 2 7\n",
      " 7 4 4 1 9 2 7 8 7 2 6 9 4 0 7 2 7 5 8 7 5 7 9 0 6 6 4 2 8 0 9 4 6 9 9 6 9\n",
      " 0 5 5 6 6 0 6 4 3 9 3 8 7 2 9 0 6 5 3 6 5 8 9 8 4 2 1 3 7 7 2 2 3 9 8 0 3\n",
      " 2 2 5 6 9 9 4 1 2 4 2 3 6 4 8 5 9 5 7 8 9 4 8 1 5 4 4 9 6 1 8 6 0 4 5 2 7\n",
      " 1 6 4 5 6 0 3 2 3 6 7 1 5 1 4 7 6 5 8 5 5 1 5 2 8 8 9 8 7 6 2 2 2 3 4 8 8\n",
      " 3 6 0 9 7 7 0 1 0 4 5 8 5 3 6 0 4 1 0 0 3 6 5 9 7 3 5 5 9 9 8 5 3 3 2 0 5\n",
      " 8 3 4 0 2 4 6 4 3 4 5 0 5 2 1 3 1 4 1 1 7 0 1 5 2 1 2 8 7 0 6 4 8 8 5 1 8\n",
      " 4 5 8 7 9 8 6 0 6 2 0 7 9 1 9 5 2 7 7 1 8 7 4 3 8 3 5]\n"
     ]
    }
   ],
   "source": [
    "print('Valores reales', y_test)\n",
    "print('Predicciones:',log_reg.predict(X_test))"
   ]
  },
  {
   "cell_type": "code",
   "execution_count": 15,
   "id": "310e11bc",
   "metadata": {},
   "outputs": [
    {
     "name": "stdout",
     "output_type": "stream",
     "text": [
      "Valor real 9\n",
      "Predicción [8]\n"
     ]
    },
    {
     "data": {
      "image/png": "[encoded data removed]",
      "text/plain": [
       "<Figure size 432x288 with 1 Axes>"
      ]
     },
     "metadata": {
      "needs_background": "light"
     },
     "output_type": "display_data"
    }
   ],
   "source": [
    "# Ejemplos de predicciones\n",
    "#i = 20\n",
    "i = 11\n",
    "\n",
    "image = X_test[i].reshape(8,8)\n",
    "plt.imshow(image,cmap='gray')\n",
    "print('Valor real', y_test[i])\n",
    "print('Predicción', log_reg.predict(X_test[i].reshape(1,-1)))"
   ]
  },
  {
   "cell_type": "markdown",
   "id": "a4b56071",
   "metadata": {
    "slideshow": {
     "slide_type": "slide"
    }
   },
   "source": [
    "# Curvas ROC"
   ]
  },
  {
   "cell_type": "markdown",
   "id": "afe576dc",
   "metadata": {
    "slideshow": {
     "slide_type": "slide"
    }
   },
   "source": [
    "## Contexto: recordatorios"
   ]
  },
  {
   "cell_type": "markdown",
   "id": "8644a24c",
   "metadata": {
    "slideshow": {
     "slide_type": "fragment"
    }
   },
   "source": [
    "- **True Positive Rate** (sensibilidad)\n",
    "\n",
    "$$ TPR = \\frac{TP}{TP + FN}$$\n",
    "\n",
    "- **False Positive Rate** \n",
    "$$ FPR = \\frac{FP}{FP + TN} $$"
   ]
  },
  {
   "cell_type": "markdown",
   "id": "60342783",
   "metadata": {
    "slideshow": {
     "slide_type": "fragment"
    }
   },
   "source": [
    "- La curva **Característica Operativa del Receptor** (Receiver Operative Characteristic/ROC) muestra la relación entre el True Positive Rate (sensibilidad) y el False Positive Rate. (Visualización [aquí](http://www.navan.name/roc/))\n",
    "- El **Área Bajo la Curva** (Area Under Curve/AUC) se utiliza como un valor de medida que proyecto lo visualizado en la curva ROC. Un clasificador perfecto tendrá valor $AUC=1$, mientras que para un clasificador aleatorio, $AUC=0.5$"
   ]
  },
  {
   "cell_type": "code",
   "execution_count": 1,
   "id": "a35134c3",
   "metadata": {},
   "outputs": [
    {
     "data": {
      "text/html": [
       "<div>\n",
       "<style scoped>\n",
       "    .dataframe tbody tr th:only-of-type {\n",
       "        vertical-align: middle;\n",
       "    }\n",
       "\n",
       "    .dataframe tbody tr th {\n",
       "        vertical-align: top;\n",
       "    }\n",
       "\n",
       "    .dataframe thead th {\n",
       "        text-align: right;\n",
       "    }\n",
       "</style>\n",
       "<table border=\"1\" class=\"dataframe\">\n",
       "  <thead>\n",
       "    <tr style=\"text-align: right;\">\n",
       "      <th></th>\n",
       "      <th>sepal length (cm)</th>\n",
       "      <th>sepal width (cm)</th>\n",
       "      <th>petal length (cm)</th>\n",
       "      <th>petal width (cm)</th>\n",
       "      <th>target</th>\n",
       "    </tr>\n",
       "  </thead>\n",
       "  <tbody>\n",
       "    <tr>\n",
       "      <th>0</th>\n",
       "      <td>7.0</td>\n",
       "      <td>3.2</td>\n",
       "      <td>4.7</td>\n",
       "      <td>1.4</td>\n",
       "      <td>0</td>\n",
       "    </tr>\n",
       "    <tr>\n",
       "      <th>1</th>\n",
       "      <td>6.4</td>\n",
       "      <td>3.2</td>\n",
       "      <td>4.5</td>\n",
       "      <td>1.5</td>\n",
       "      <td>0</td>\n",
       "    </tr>\n",
       "    <tr>\n",
       "      <th>2</th>\n",
       "      <td>6.9</td>\n",
       "      <td>3.1</td>\n",
       "      <td>4.9</td>\n",
       "      <td>1.5</td>\n",
       "      <td>0</td>\n",
       "    </tr>\n",
       "    <tr>\n",
       "      <th>3</th>\n",
       "      <td>5.5</td>\n",
       "      <td>2.3</td>\n",
       "      <td>4.0</td>\n",
       "      <td>1.3</td>\n",
       "      <td>0</td>\n",
       "    </tr>\n",
       "    <tr>\n",
       "      <th>4</th>\n",
       "      <td>6.5</td>\n",
       "      <td>2.8</td>\n",
       "      <td>4.6</td>\n",
       "      <td>1.5</td>\n",
       "      <td>0</td>\n",
       "    </tr>\n",
       "  </tbody>\n",
       "</table>\n",
       "</div>"
      ],
      "text/plain": [
       "   sepal length (cm)  sepal width (cm)  petal length (cm)  petal width (cm)  \\\n",
       "0                7.0               3.2                4.7               1.4   \n",
       "1                6.4               3.2                4.5               1.5   \n",
       "2                6.9               3.1                4.9               1.5   \n",
       "3                5.5               2.3                4.0               1.3   \n",
       "4                6.5               2.8                4.6               1.5   \n",
       "\n",
       "   target  \n",
       "0       0  \n",
       "1       0  \n",
       "2       0  \n",
       "3       0  \n",
       "4       0  "
      ]
     },
     "execution_count": 1,
     "metadata": {},
     "output_type": "execute_result"
    }
   ],
   "source": [
    "import pandas as pd\n",
    "from sklearn.model_selection import train_test_split\n",
    "from sklearn.preprocessing import StandardScaler\n",
    "from sklearn.metrics import roc_auc_score, plot_roc_curve\n",
    "\n",
    "df = pd.read_csv('data/modifiedIris2Classes.csv')\n",
    "df.head()"
   ]
  },
  {
   "cell_type": "code",
   "execution_count": 2,
   "id": "79d4d213",
   "metadata": {
    "slideshow": {
     "slide_type": "fragment"
    }
   },
   "outputs": [
    {
     "ename": "NameError",
     "evalue": "name 'LogisticRegression' is not defined",
     "output_type": "error",
     "traceback": [
      "\u001b[0;31m---------------------------------------------------------------------------\u001b[0m",
      "\u001b[0;31mNameError\u001b[0m                                 Traceback (most recent call last)",
      "\u001b[0;32m/tmp/ipykernel_43056/1262169234.py\u001b[0m in \u001b[0;36m<module>\u001b[0;34m\u001b[0m\n\u001b[1;32m      3\u001b[0m \u001b[0my\u001b[0m \u001b[0;34m=\u001b[0m \u001b[0mdf\u001b[0m\u001b[0;34m[\u001b[0m\u001b[0;34m'target'\u001b[0m\u001b[0;34m]\u001b[0m\u001b[0;34m\u001b[0m\u001b[0;34m\u001b[0m\u001b[0m\n\u001b[1;32m      4\u001b[0m \u001b[0;31m# Crea una instancia del modelo\u001b[0m\u001b[0;34m\u001b[0m\u001b[0;34m\u001b[0m\u001b[0;34m\u001b[0m\u001b[0m\n\u001b[0;32m----> 5\u001b[0;31m \u001b[0mlogreg\u001b[0m \u001b[0;34m=\u001b[0m \u001b[0mLogisticRegression\u001b[0m\u001b[0;34m(\u001b[0m\u001b[0;34m)\u001b[0m\u001b[0;34m\u001b[0m\u001b[0;34m\u001b[0m\u001b[0m\n\u001b[0m\u001b[1;32m      6\u001b[0m \u001b[0;31m# División entrenamiento prueba\u001b[0m\u001b[0;34m\u001b[0m\u001b[0;34m\u001b[0m\u001b[0;34m\u001b[0m\u001b[0m\n\u001b[1;32m      7\u001b[0m \u001b[0mX_train\u001b[0m\u001b[0;34m,\u001b[0m \u001b[0mX_test\u001b[0m\u001b[0;34m,\u001b[0m \u001b[0my_train\u001b[0m\u001b[0;34m,\u001b[0m \u001b[0my_test\u001b[0m \u001b[0;34m=\u001b[0m \u001b[0mtrain_test_split\u001b[0m\u001b[0;34m(\u001b[0m\u001b[0mX\u001b[0m\u001b[0;34m,\u001b[0m \u001b[0my\u001b[0m\u001b[0;34m,\u001b[0m \u001b[0mtest_size\u001b[0m\u001b[0;34m=\u001b[0m\u001b[0;36m0.2\u001b[0m\u001b[0;34m,\u001b[0m \u001b[0mrandom_state\u001b[0m\u001b[0;34m=\u001b[0m\u001b[0;36m42\u001b[0m\u001b[0;34m)\u001b[0m\u001b[0;34m\u001b[0m\u001b[0;34m\u001b[0m\u001b[0m\n",
      "\u001b[0;31mNameError\u001b[0m: name 'LogisticRegression' is not defined"
     ]
    }
   ],
   "source": [
    "from sklearn.linear_model import LogisticRegression\n",
    "# Dividir en X e y\n",
    "X = df.drop(columns = 'target')\n",
    "y = df['target']\n",
    "# Crea una instancia del modelo\n",
    "logreg = LogisticRegression()\n",
    "# División entrenamiento prueba\n",
    "X_train, X_test, y_train, y_test = train_test_split(X, y, test_size=0.2, random_state=42)\n",
    "# Escalar la regresión logística\n",
    "scaler = StandardScaler()\n",
    "# Ajustar solo al conjunto de entrenamiento\n",
    "scaler.fit(X_train)\n",
    "# Apply transform to both the training set and the test set.\n",
    "X_train = scaler.transform(X_train)\n",
    "X_test = scaler.transform(X_test)\n",
    "# Entrenamiento del modelo con los datos, almacenando la información aprendida de los datos\n",
    "# Model está aprendiendo la relación entre X e y\n",
    "logreg.fit(X_train, y_train)"
   ]
  },
  {
   "cell_type": "code",
   "execution_count": 131,
   "id": "7afcb748",
   "metadata": {
    "slideshow": {
     "slide_type": "fragment"
    }
   },
   "outputs": [
    {
     "name": "stdout",
     "output_type": "stream",
     "text": [
      "Training AUC: 1.0\n",
      "Testing AUC: 0.9479166666666667\n"
     ]
    }
   ],
   "source": [
    "# Calcular el AUC para conjuntos de entrenamiento y prueba\n",
    "print(f'Training AUC: {roc_auc_score(y_train, logreg.predict_proba(X_train)[:,1])}')\n",
    "print(f'Testing AUC: {roc_auc_score(y_test, logreg.predict_proba(X_test)[:,1])}')"
   ]
  },
  {
   "cell_type": "code",
   "execution_count": 132,
   "id": "26639522",
   "metadata": {
    "slideshow": {
     "slide_type": "fragment"
    }
   },
   "outputs": [
    {
     "data": {
      "image/png": "[encoded data removed]",
      "text/plain": [
       "<Figure size 432x288 with 1 Axes>"
      ]
     },
     "metadata": {
      "needs_background": "light"
     },
     "output_type": "display_data"
    }
   ],
   "source": [
    "# Visualizar la curva ROC\n",
    "plot_roc_curve(logreg, X_test, y_test)\n",
    "plt.plot([0, 1], [0, 1], ls = '--', label = 'Baseline (AUC = 0.5)')\n",
    "plt.legend();"
   ]
  },
  {
   "cell_type": "markdown",
   "id": "ba661a96",
   "metadata": {
    "slideshow": {
     "slide_type": "slide"
    }
   },
   "source": [
    "# Actividad 6"
   ]
  },
  {
   "cell_type": "markdown",
   "id": "e847f5ef",
   "metadata": {
    "slideshow": {
     "slide_type": "fragment"
    }
   },
   "source": [
    "A partir del dataset de supervivencia del titanic, disponible [aquí](data/titanic.csv)\n",
    "- Utilice los algoritmos de Regresión Logística y el clasificador Ridge para predecir la supervivencia de los pasajeros\n",
    "- Obtenga y compare las curvas ROC y las medidas AUC asociadas a cada clasificador. ¿Cuál es el mejor clasificador?"
   ]
  },
  {
   "cell_type": "code",
   "execution_count": 133,
   "id": "2a0a3261",
   "metadata": {
    "slideshow": {
     "slide_type": "skip"
    }
   },
   "outputs": [
    {
     "data": {
      "text/html": [
       "\n",
       "<style>\n",
       ".output_png {\n",
       "    display: table-cell;\n",
       "    text-align: center;\n",
       "    vertical-align: middle;\n",
       "}\n",
       "</style>\n"
      ],
      "text/plain": [
       "<IPython.core.display.HTML object>"
      ]
     },
     "execution_count": 133,
     "metadata": {},
     "output_type": "execute_result"
    }
   ],
   "source": [
    "from IPython.core.display import HTML\n",
    "HTML(\"\"\"\n",
    "<style>\n",
    ".output_png {\n",
    "    display: table-cell;\n",
    "    text-align: center;\n",
    "    vertical-align: middle;\n",
    "}\n",
    "</style>\n",
    "\"\"\")\n",
    "#codigo extra, para que imagenes de matplotlib\n",
    "#estén centradas en las diapositivas, ejecutar antes de lanzar los ejemplos."
   ]
  }
 ],
 "metadata": {
  "celltoolbar": "Slideshow",
  "kernelspec": {
   "display_name": "Python 3 (ipykernel)",
   "language": "python",
   "name": "python3"
  },
  "language_info": {
   "codemirror_mode": {
    "name": "ipython",
    "version": 3
   },
   "file_extension": ".py",
   "mimetype": "text/x-python",
   "name": "python",
   "nbconvert_exporter": "python",
   "pygments_lexer": "ipython3",
   "version": "3.8.12"
  }
 },
 "nbformat": 4,
 "nbformat_minor": 5
}
